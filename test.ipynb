{
 "cells": [
  {
   "cell_type": "code",
   "execution_count": null,
   "metadata": {},
   "outputs": [],
   "source": [
    "from attgeo import Mapper, Point\n",
    "from types import SimpleNamespace\n",
    "from typing import Any\n",
    "\n",
    "url = \"https://sampleserver6.arcgisonline.com/arcgis/rest/services/USA/MapServer/0\"\n",
    "\n",
    "class City:\n",
    "    objectid: int\n",
    "    areaname: str\n",
    "    pop2000: int\n",
    "    shape: Point\n",
    "\n",
    "mapper = Mapper(url, City)\n",
    "\n",
    "for city in mapper.read(\"areaname LIKE 'Arc%'\", outSR=102100):\n",
    "    print(city.__dict__)\n",
    "\n",
    "mapper.__dict__\n"
   ]
  },
  {
   "cell_type": "code",
   "execution_count": null,
   "metadata": {},
   "outputs": [],
   "source": [
    "from attgeo import Mapper\n",
    "from datetime import datetime\n",
    "from itertools import islice\n",
    "\n",
    "url = \"https://sampleserver6.arcgisonline.com/arcgis/rest/services/SpatioTemporalAggregation/RainfallTimeSeriesDataIllinois/MapServer/7\"\n",
    "\n",
    "class Rain:\n",
    "    objectid: int\n",
    "    site_no: str\n",
    "    date_time: datetime\n",
    "    rainfall_inch: float\n",
    "\n",
    "mapper = Mapper(url, Rain)\n",
    "\n",
    "for rain in islice(mapper.read(), 4):\n",
    "    print(rain.__dict__)\n",
    "\n",
    "mapper.__dict__\n"
   ]
  }
 ],
 "metadata": {
  "kernelspec": {
   "display_name": "Python 3",
   "language": "python",
   "name": "python3"
  },
  "language_info": {
   "codemirror_mode": {
    "name": "ipython",
    "version": 3
   },
   "file_extension": ".py",
   "mimetype": "text/x-python",
   "name": "python",
   "nbconvert_exporter": "python",
   "pygments_lexer": "ipython3",
   "version": "3.9.11"
  },
  "orig_nbformat": 4,
  "vscode": {
   "interpreter": {
    "hash": "0158672eef70e684879087f646ddbc929cb6f29c296c3528179c42b3caaf6fc7"
   }
  }
 },
 "nbformat": 4,
 "nbformat_minor": 2
}
