{
 "cells": [
  {
   "cell_type": "code",
   "execution_count": 2,
   "metadata": {},
   "outputs": [
    {
     "name": "stdout",
     "output_type": "stream",
     "text": [
      "New York 8008278 -73.91792710599998 40.704233989000045\n",
      "Los Angeles 3694820 -118.37598399299998 34.08615911600003\n",
      "Chicago 2896016 -87.67936508699995 41.84067502400006\n",
      "Houston 1953631 -95.38317308799998 29.762895012000058\n",
      "Philadelphia 1517550 -75.14479307799996 39.99801187800006\n",
      "Phoenix 1321045 -112.07629996499998 33.528369929000064\n",
      "San Diego 1223400 -117.14634405099997 32.77954103900004\n",
      "Dallas 1188580 -96.78716608599996 32.799528043000066\n",
      "San Antonio 1144646 -98.51268200899995 29.451532072000077\n"
     ]
    }
   ],
   "source": [
    "from attgeo import Mapper, Point\n",
    "\n",
    "url = \"https://sampleserver6.arcgisonline.com/arcgis/rest/services/USA/MapServer/0\"\n",
    "\n",
    "class City:\n",
    "    objectid: int\n",
    "    areaname: str\n",
    "    pop2000: int    \n",
    "    shape: Point\n",
    "\n",
    "mapper = Mapper(url, City)\n",
    "\n",
    "for city in mapper.query(\"pop2000 > 1000000\", orderByFields=\"pop2000 DESC\"):\n",
    "    print(city.areaname, city.pop2000, city.shape.x, city.shape.y)\n"
   ]
  },
  {
   "cell_type": "code",
   "execution_count": 3,
   "metadata": {},
   "outputs": [
    {
     "name": "stdout",
     "output_type": "stream",
     "text": [
      "New York 8008278 -8228506.005934231 4968813.6412190115\n",
      "Los Angeles 3694820 -13177554.26025346 4040376.9659394654\n",
      "Chicago 2896016 -9760422.274562363 5137143.132805097\n",
      "Houston 1953631 -10618006.258402834 3473108.472451801\n",
      "Philadelphia 1517550 -8365080.101208865 4865653.375238131\n",
      "Phoenix 1321045 -12476276.642097982 3965648.0787066477\n",
      "San Diego 1223400 -13040671.36805095 3866078.150301196\n",
      "Dallas 1188580 -10774298.044017512 3868724.7951710317\n",
      "San Antonio 1144646 -10966381.597921556 3433242.4394413484\n"
     ]
    },
    {
     "data": {
      "text/plain": [
       "{'objectid': 3184,\n",
       " 'areaname': 'San Antonio',\n",
       " 'class': 'city',\n",
       " 'st': 'TX',\n",
       " 'capital': 'N',\n",
       " 'pop2000': 1144646,\n",
       " 'shape': namespace(x=-10966381.597921556, y=3433242.4394413484)}"
      ]
     },
     "execution_count": 3,
     "metadata": {},
     "output_type": "execute_result"
    }
   ],
   "source": [
    "from attgeo import Mapper\n",
    "\n",
    "url = \"https://sampleserver6.arcgisonline.com/arcgis/rest/services/USA/MapServer/0\"\n",
    "\n",
    "# Not specifying the target type results in \"SimpleNamespace\" objects.\n",
    "mapper = Mapper(url)\n",
    "\n",
    "# Keyword arguments such as \"outSR\" are also sent to the Esri API.\n",
    "for city in mapper.query(\"pop2000 > 1000000\", orderByFields=\"pop2000 DESC\", outSR=102100):\n",
    "    print(city.areaname, city.pop2000, city.shape.x, city.shape.y)\n",
    "\n",
    "# Contains all fields.\n",
    "city.__dict__\n"
   ]
  },
  {
   "cell_type": "code",
   "execution_count": 4,
   "metadata": {},
   "outputs": [
    {
     "name": "stdout",
     "output_type": "stream",
     "text": [
      "47 Interstate  55 Multi-Lane Divided\n",
      "63 Interstate  55 Multi-Lane Divided\n",
      "197 Interstate  55 Multi-Lane Divided\n",
      "198 Interstate  55 Multi-Lane Divided\n",
      "240 Interstate  55 Multi-Lane Divided\n",
      "247 Interstate  55 Multi-Lane Divided\n",
      "273 Interstate  55 Multi-Lane Divided\n",
      "279 Interstate  55 Multi-Lane Divided\n",
      "319 Interstate  55 Multi-Lane Divided\n",
      "308 Interstate  55 Multi-Lane Divided\n",
      "314 Interstate  55 Multi-Lane Divided\n",
      "439 Interstate  55 Multi-Lane Divided\n",
      "441 Interstate  55 Multi-Lane Divided\n",
      "455 Interstate  55 Multi-Lane Divided\n",
      "476 Interstate  55 Multi-Lane Divided\n",
      "477 Interstate  55 Multi-Lane Divided\n"
     ]
    }
   ],
   "source": [
    "from attgeo import Mapper, Polyline\n",
    "from dataclasses import dataclass\n",
    "\n",
    "url = \"https://sampleserver6.arcgisonline.com/arcgis/rest/services/USA/MapServer/1\"\n",
    "\n",
    "# Optionally supports dataclass.\n",
    "@dataclass(frozen=True)\n",
    "class Highway:\n",
    "    objectid: int\n",
    "    type: str\n",
    "    name: str # This is actually called \"route\" in the table.\n",
    "    shape: Polyline\n",
    "\n",
    "mapper = Mapper(url, Highway, mapping={\"name\": \"route\"})\n",
    "\n",
    "for highway in mapper.query(\"route = 'Interstate  55'\"):\n",
    "    print(highway.objectid, highway.name, highway.type)\n"
   ]
  },
  {
   "cell_type": "code",
   "execution_count": 5,
   "metadata": {},
   "outputs": [
    {
     "name": "stdout",
     "output_type": "stream",
     "text": [
      "{'objectid': 1, 'name': 'Lake of the Woods', 'pop2000': 4522, 'shape': <attgeo.Polygon object at 0x000002453CE006A0>}\n",
      "{'objectid': 2, 'name': 'Ferry', 'pop2000': 7260, 'shape': <attgeo.Polygon object at 0x000002453CE4C1C0>}\n",
      "{'objectid': 3, 'name': 'Stevens', 'pop2000': 40066, 'shape': <attgeo.Polygon object at 0x000002453CE4CC10>}\n",
      "{'objectid': 4, 'name': 'Okanogan', 'pop2000': 39564, 'shape': <attgeo.Polygon object at 0x000002453CE4CB20>}\n",
      "{'objectid': 5, 'name': 'Pend Oreille', 'pop2000': 11732, 'shape': <attgeo.Polygon object at 0x000002453CE4C160>}\n",
      "{'objectid': 6, 'name': 'Boundary', 'pop2000': 9871, 'shape': <attgeo.Polygon object at 0x000002453CE4C250>}\n",
      "{'objectid': 7, 'name': 'Lincoln', 'pop2000': 18837, 'shape': <attgeo.Polygon object at 0x000002453BB6BBB0>}\n",
      "{'objectid': 8, 'name': 'Flathead', 'pop2000': 74471, 'shape': <attgeo.Polygon object at 0x000002453BB6BB80>}\n",
      "{'objectid': 9, 'name': 'Glacier', 'pop2000': 13247, 'shape': <attgeo.Polygon object at 0x000002453D5B6CD0>}\n",
      "{'objectid': 10, 'name': 'Toole', 'pop2000': 5267, 'shape': <attgeo.Polygon object at 0x000002453D5B6D90>}\n"
     ]
    }
   ],
   "source": [
    "from attgeo import Mapper, Polygon\n",
    "from itertools import islice\n",
    "\n",
    "url = \"https://sampleserver6.arcgisonline.com/arcgis/rest/services/USA/MapServer/3\"\n",
    "\n",
    "class County:\n",
    "    objectid: int\n",
    "    name: str\n",
    "    pop2000: int\n",
    "    shape: Polygon\n",
    "\n",
    "mapper = Mapper(url, County)\n",
    "\n",
    "# Take only 10 records (otherwise keeps yielding).\n",
    "for county in islice(mapper.query(), 10):\n",
    "    print(county.__dict__)\n"
   ]
  },
  {
   "cell_type": "code",
   "execution_count": 6,
   "metadata": {},
   "outputs": [
    {
     "name": "stdout",
     "output_type": "stream",
     "text": [
      "{'objectid': 1, 'site_no': '220739159373001', 'date_time': datetime.datetime(2011, 12, 31, 21, 15), 'rainfall_inch': 0.01}\n",
      "{'objectid': 2, 'site_no': '200518155405801', 'date_time': datetime.datetime(2011, 12, 31, 21, 30), 'rainfall_inch': 0.01}\n",
      "{'objectid': 3, 'site_no': '194117155174801', 'date_time': datetime.datetime(2011, 12, 31, 21, 30), 'rainfall_inch': 0.01}\n",
      "{'objectid': 4, 'site_no': '220927159355001', 'date_time': datetime.datetime(2011, 12, 31, 22, 0), 'rainfall_inch': 0.01}\n",
      "{'objectid': 5, 'site_no': '200518155405801', 'date_time': datetime.datetime(2011, 12, 31, 22, 15), 'rainfall_inch': 0.01}\n",
      "{'objectid': 6, 'site_no': '200518155405801', 'date_time': datetime.datetime(2011, 12, 31, 23, 0), 'rainfall_inch': 0.01}\n",
      "{'objectid': 7, 'site_no': '220523159341201', 'date_time': datetime.datetime(2011, 12, 31, 23, 45), 'rainfall_inch': 0.01}\n",
      "{'objectid': 8, 'site_no': '213335157540601', 'date_time': datetime.datetime(2012, 1, 1, 0, 0), 'rainfall_inch': 0.03}\n",
      "{'objectid': 9, 'site_no': '423900090172100', 'date_time': datetime.datetime(2012, 1, 1, 0, 7), 'rainfall_inch': 0.009}\n",
      "{'objectid': 10, 'site_no': '213335157540601', 'date_time': datetime.datetime(2012, 1, 1, 0, 15), 'rainfall_inch': 0.01}\n"
     ]
    }
   ],
   "source": [
    "from attgeo import Mapper\n",
    "from datetime import datetime\n",
    "from itertools import islice\n",
    "\n",
    "url = \"https://sampleserver6.arcgisonline.com/arcgis/rest/services/SpatioTemporalAggregation/RainfallTimeSeriesDataIllinois/MapServer/7\"\n",
    "\n",
    "class Rain:\n",
    "    objectid: int\n",
    "    site_no: str\n",
    "    date_time: datetime\n",
    "    rainfall_inch: float\n",
    "\n",
    "# Non-spatial table.\n",
    "mapper = Mapper(url, Rain)\n",
    "\n",
    "# Take only 10 records (otherwise keeps yielding).\n",
    "for rain in islice(mapper.query(), 10):\n",
    "    print(rain.__dict__)\n"
   ]
  },
  {
   "cell_type": "code",
   "execution_count": 7,
   "metadata": {},
   "outputs": [
    {
     "data": {
      "text/plain": [
       "[417004]"
      ]
     },
     "execution_count": 7,
     "metadata": {},
     "output_type": "execute_result"
    }
   ],
   "source": [
    "from attgeo import Mapper, Point\n",
    "\n",
    "url = \"https://sampleserver6.arcgisonline.com/arcgis/rest/services/RedlandsEmergencyVehicles/FeatureServer/0\"\n",
    "\n",
    "class Ambulance:\n",
    "    objectid: int\n",
    "    unitname: str\n",
    "    status: int\n",
    "    type: int\n",
    "    speed: float\n",
    "    shape: Point\n",
    "\n",
    "# Declaring a customer-specific field called \"callnumber\".\n",
    "mapper = Mapper(url, Ambulance, mapping={\"callnumber\": \"callnumber\"})\n",
    "\n",
    "ambulance = Ambulance()\n",
    "ambulance.unitname = \"Test 1\"\n",
    "ambulance.status = 0\n",
    "ambulance.type = 1\n",
    "\n",
    "# Dynamically assign the value.\n",
    "setattr(ambulance, \"callnumber\", \"1234\")\n",
    "\n",
    "ambulance.shape = Point()\n",
    "ambulance.shape.x, ambulance.shape.y = -120, 50\n",
    "\n",
    "# Coming soon...\n",
    "mapper.add([ambulance])\n"
   ]
  }
 ],
 "metadata": {
  "kernelspec": {
   "display_name": "Python 3",
   "language": "python",
   "name": "python3"
  },
  "language_info": {
   "codemirror_mode": {
    "name": "ipython",
    "version": 3
   },
   "file_extension": ".py",
   "mimetype": "text/x-python",
   "name": "python",
   "nbconvert_exporter": "python",
   "pygments_lexer": "ipython3",
   "version": "3.9.11"
  },
  "orig_nbformat": 4,
  "vscode": {
   "interpreter": {
    "hash": "0158672eef70e684879087f646ddbc929cb6f29c296c3528179c42b3caaf6fc7"
   }
  }
 },
 "nbformat": 4,
 "nbformat_minor": 2
}
