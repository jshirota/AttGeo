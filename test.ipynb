{
 "cells": [
  {
   "cell_type": "code",
   "execution_count": 3,
   "metadata": {},
   "outputs": [
    {
     "name": "stdout",
     "output_type": "stream",
     "text": [
      "New York 8008278\n",
      "Los Angeles 3694820\n",
      "Chicago 2896016\n",
      "Houston 1953631\n",
      "Philadelphia 1517550\n",
      "Phoenix 1321045\n",
      "San Diego 1223400\n",
      "Dallas 1188580\n",
      "San Antonio 1144646\n"
     ]
    }
   ],
   "source": [
    "from attgeo import Mapper, Point\n",
    "from dataclasses import dataclass\n",
    "\n",
    "url = \"https://sampleserver6.arcgisonline.com/arcgis/rest/services/USA/MapServer/0\"\n",
    "\n",
    "@dataclass(frozen=True)\n",
    "class City:\n",
    "    objectid: int\n",
    "    areaname: str\n",
    "    pop2000: int\n",
    "    shape: Point\n",
    "\n",
    "mapper = Mapper(url, City)\n",
    "\n",
    "for city in mapper.read(\"pop2000 > 1000000\", outSR=102100, orderByFields=\"pop2000 DESC\"):\n",
    "    print(city.areaname, city.pop2000)\n"
   ]
  },
  {
   "cell_type": "code",
   "execution_count": null,
   "metadata": {},
   "outputs": [],
   "source": [
    "from attgeo import Mapper, Polyline\n",
    "\n",
    "url = \"https://sampleserver6.arcgisonline.com/arcgis/rest/services/USA/MapServer/1\"\n",
    "\n",
    "class Highway:\n",
    "    objectid: int\n",
    "    type: str\n",
    "    route: str\n",
    "    shape: Polyline\n",
    "\n",
    "mapper = Mapper(url, Highway)\n",
    "\n",
    "for highway in mapper.read(\"route = 'Interstate  55'\"):\n",
    "    print(highway.__dict__)\n"
   ]
  },
  {
   "cell_type": "code",
   "execution_count": null,
   "metadata": {},
   "outputs": [],
   "source": [
    "from attgeo import Mapper, Polygon\n",
    "\n",
    "url = \"https://sampleserver6.arcgisonline.com/arcgis/rest/services/USA/MapServer/3\"\n",
    "\n",
    "class County:\n",
    "    objectid: int\n",
    "    name: str\n",
    "    pop2000: int\n",
    "    shape: Polygon\n",
    "\n",
    "mapper = Mapper(url, County)\n",
    "\n",
    "for county in mapper.read():\n",
    "    print(county.__dict__)\n"
   ]
  },
  {
   "cell_type": "code",
   "execution_count": null,
   "metadata": {},
   "outputs": [],
   "source": [
    "from attgeo import Mapper\n",
    "from datetime import datetime\n",
    "from itertools import islice\n",
    "\n",
    "url = \"https://sampleserver6.arcgisonline.com/arcgis/rest/services/SpatioTemporalAggregation/RainfallTimeSeriesDataIllinois/MapServer/7\"\n",
    "\n",
    "class Rain:\n",
    "    objectid: int\n",
    "    site_no: str\n",
    "    date_time: datetime\n",
    "    rainfall_inch: float\n",
    "\n",
    "mapper = Mapper(url, Rain)\n",
    "\n",
    "for rain in islice(mapper.read(), 4):\n",
    "    print(rain.__dict__)\n"
   ]
  }
 ],
 "metadata": {
  "kernelspec": {
   "display_name": "Python 3",
   "language": "python",
   "name": "python3"
  },
  "language_info": {
   "codemirror_mode": {
    "name": "ipython",
    "version": 3
   },
   "file_extension": ".py",
   "mimetype": "text/x-python",
   "name": "python",
   "nbconvert_exporter": "python",
   "pygments_lexer": "ipython3",
   "version": "3.9.11"
  },
  "orig_nbformat": 4,
  "vscode": {
   "interpreter": {
    "hash": "0158672eef70e684879087f646ddbc929cb6f29c296c3528179c42b3caaf6fc7"
   }
  }
 },
 "nbformat": 4,
 "nbformat_minor": 2
}
